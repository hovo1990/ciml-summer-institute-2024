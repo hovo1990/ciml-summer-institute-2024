{
 "cells": [
  {
   "cell_type": "markdown",
   "id": "9f2ad46e",
   "metadata": {},
   "source": [
    "# Prompting GPT using OpenAI API\n",
    "\n",
    "ChatGPT, developed by OpenAI, is specifically tailored for generating human-like text, making it ideal for conversational interfaces and producing contextually relevant responses. This contrasts with the broader capabilities of the OpenAI API, which offers access to a variety of models for different tasks, including text generation, image creation, and language understanding. You might want to prompt GPT from a Python script or notebook for a more uniform and structured approach to your data analysis tasks. Integrating ChatGPT within a Python environment, as part of the broader OpenAI API suite, facilitates consistency and repeatability across different datasets and projects, streamlining the analytical process through automation and standardized interactions. While this method enhances efficiency and control, it's important to consider that it also introduces a level of rigidity. The reliance on predefined scripts can constrain the flexibility and spontaneity needed for certain ad-hoc explorations and creative insights. In this section of the tutorial, we'll delve into how to effectively integrate GPT within Python environments, balancing efficiency with the need for exploratory analysis."
   ]
  },
  {
   "cell_type": "markdown",
   "id": "82d8c18f",
   "metadata": {},
   "source": [
    "### Importing OpenAI API library\n",
    "\n",
    "This cell imports the OpenAI library into your Python environment. This is necessary to interact with OpenAI's API in your code. The openai library provides the functions and methods needed to send requests to OpenAI's models and receive their responses."
   ]
  },
  {
   "cell_type": "code",
   "execution_count": 1,
   "id": "118a0972-584e-46ce-99e4-08a362e65aa5",
   "metadata": {},
   "outputs": [],
   "source": [
    "# Only need to do this once\n",
    "\n",
    "# !pip install OpenAI"
   ]
  },
  {
   "cell_type": "code",
   "execution_count": 2,
   "id": "5592dc0f",
   "metadata": {},
   "outputs": [],
   "source": [
    "from openai import OpenAI\n",
    "import os"
   ]
  },
  {
   "cell_type": "markdown",
   "id": "a90f8bfe",
   "metadata": {},
   "source": [
    "### Setting up API Key and Model\n",
    "\n",
    "This cell initializes the API key and model you will be using. The API key is a unique identifier that allows the OpenAI API to authenticate your requests. Make an API key using this [link](https://platform.openai.com/api-keys). It's essential to keep this key secure. The model string specifies which version of the GPT model you intend to use for your requests. Look [here](https://platform.openai.com/docs/models/model-endpoint-compatibility) to check model endpoint compatibility. Make sure the API key and model are correct and valid for your use case."
   ]
  },
  {
   "cell_type": "code",
   "execution_count": 3,
   "id": "857922c0-c1e2-412c-91a8-69a2222fcd55",
   "metadata": {},
   "outputs": [],
   "source": [
    "# There are several ways to set your API key\n",
    "\n",
    "# Hard-code your API key\n",
    "# API_KEY = \"...\"      # Paste your API key here\n",
    "\n",
    "# Set an environment variable to hold your API key\n",
    "# API_KEY = os.getenv('API_KEY')\n",
    "\n",
    "# Get API_KEY from a file\n",
    "import json\n",
    "with open('config.json') as f:\n",
    "    config = json.load(f)\n",
    "\n",
    "API_KEY = config['OPENAI_API_KEY']"
   ]
  },
  {
   "cell_type": "code",
   "execution_count": 4,
   "id": "69e3603f",
   "metadata": {},
   "outputs": [],
   "source": [
    "MODEL = \"gpt-3.5-turbo-0125\"       # 16K context window, optimized for dialog\n",
    "# MODEL = \"gpt-3.5-turbo-instruct\" # 4K context window, designed to follow direct instructions more effectively     "
   ]
  },
  {
   "cell_type": "markdown",
   "id": "d1394b79",
   "metadata": {},
   "source": [
    "### Creating a Client and Sending a Request\n",
    "\n",
    "This cell creates a client using your API key, then sends a request to the OpenAI API. It defines the conversation context for the AI by setting up messages with roles (system and user). The max_tokens parameter limits the length of the response. The request is sent to the model specified earlier, and the response is printed out. This demonstrates how to interact with the OpenAI API by sending it input and receiving a response."
   ]
  },
  {
   "cell_type": "code",
   "execution_count": 5,
   "id": "4d2a441f",
   "metadata": {},
   "outputs": [
    {
     "name": "stdout",
     "output_type": "stream",
     "text": [
      "Data science is a multidisciplinary field that deals with extracting knowledge and insights from structured and unstructured data. It involves using\n"
     ]
    }
   ],
   "source": [
    "# client = OpenAI(api_key=os.environ.get(\"OPENAI_API_KEY\", API_KEY))\n",
    "\n",
    "client = OpenAI(api_key=API_KEY)\n",
    "\n",
    "response = client.chat.completions.create(\n",
    "    model = MODEL,\n",
    "    messages = [\n",
    "      {\n",
    "        \"role\": \"system\",\n",
    "        \"content\": \"You are a helpful assistant.\"\n",
    "      },\n",
    "      {\n",
    "        \"role\": \"user\",\n",
    "        \"content\": \"What is data science?\"\n",
    "      }\n",
    "    ],\n",
    "    max_tokens = 25\n",
    ")\n",
    "\n",
    "print(response.choices[0].message.content)"
   ]
  },
  {
   "cell_type": "markdown",
   "id": "b673551a-3f56-4284-b797-e30c7abaded2",
   "metadata": {},
   "source": [
    "### Understanding the Chat Completion API\n",
    "\n",
    "The `create` method for chat completions in the OpenAI API is a powerful tool that allows you to interact with OpenAI's models conversationally. When you use this method, you're essentially starting a chat session with the AI, where you can submit prompts, and the model will generate responses based on the context provided by previous exchanges in the session. Here's what you need to know about the most relevant parameters:\n",
    "\n",
    "1. `model`:\n",
    "Specifies the language model you wish to use for the chat completion. OpenAI offers various models with different capabilities and specialties—the following [blog](https://semaphoreci.com/blog/openai-models#a-few-thoughts-on-choosing-a-model) details how to choose the right model for your task.\n",
    "\n",
    "2. `messages`: A array of message objects, where each object has a role (\"system\", \"user\", or \"assistant\") and content.\n",
    "Typically, a conversation starts with a system message, followed by alternating user and assistant messages.\n",
    "    - **system** message defines the persona or provide instructions for the assistant\n",
    "    - **user** message provides input or asks questions for the assistant to respond to\n",
    "    - **assistant** message stores previous assistant responses, but can also be written by the user to give examples of desired behavior\n",
    "\n",
    "\n",
    "3. `max_tokens`: Sets the maximum number of tokens (words and characters) the model will generate in each response. It is typically a number between 1 and 4096, depending on the complexity of the response needed.\n",
    "\n",
    "4. `temperature`: Controls the randomness of the model's responses. A higher temperature results in more varied responses, while a lower temperature makes the model's responses more deterministic. It is a float between 0.0 and 2.0, where 0.0 gives the most deterministic responses.\n",
    "\n",
    "5. `n`: Specifies the number of completions to generate for each prompt. Useful for generating multiple responses to choose from.\n",
    "   \n",
    "6. `top_p`: This is another parameter that influences the diversity of the model's responses, by limiting the model's choices to the most likely next tokens whose cumulative probability exceeds the value of top_p.\n",
    "\n",
    "7. `user`: Identifies the user in multi-user scenarios, helping the model to personalize or distinguish between different participants in the chat.\n",
    "\n",
    "See the [OpenAI Users Guide](https://platform.openai.com/docs/guides/text-generation/chat-completions-api) for more info."
   ]
  },
  {
   "cell_type": "markdown",
   "id": "7bd500e5-e3f8-42e0-b022-b23396fe3322",
   "metadata": {},
   "source": [
    "### Experimenting with different parameters"
   ]
  },
  {
   "cell_type": "markdown",
   "id": "e1cd119c-b951-4672-9f6c-e0d801f01128",
   "metadata": {},
   "source": [
    "After setting up your initial code to interact with the OpenAI API, as demonstrated above, a key aspect of refining your AI's responses involves experimenting with different parameters. By altering the `messages` array, you can change the context or the nature of the questions posed to the AI, which can lead to significantly different outputs. Similarly, adjusting the `max_tokens` parameter allows you to control the length of the AI's responses. A higher token count can provide more detailed and expansive answers, while a lower count results in more concise responses. Experimenting with these settings can help you fine-tune the AI's output to better suit your specific requirements and understand the nuances of conversational AI dynamics."
   ]
  },
  {
   "cell_type": "markdown",
   "id": "f3787395-fe90-4631-8908-d9753575f15b",
   "metadata": {},
   "source": [
    "#### Example 1: Showcasing different models"
   ]
  },
  {
   "cell_type": "code",
   "execution_count": 6,
   "id": "4cc8510c-5f30-4684-b954-4e37892201e3",
   "metadata": {},
   "outputs": [
    {
     "name": "stdout",
     "output_type": "stream",
     "text": [
      "GPT-3.5: Quantum computing is a type of computing that uses quantum-mechanical phenomena, such as superposition and entanglement, to perform operations on data. Unlike classical computers, which use bits as units of information, quantum computers use quantum bits or qubits. Qubits can exist in multiple states at the same time due to superposition, which allows quantum computers to process and store a vast amount of information simultaneously. This gives quantum computers the potential to solve complex problems much faster than classical computers.\n",
      "\n",
      "\n",
      "GPT-4: Quantum computing is a type of computation that harnesses the power of quantum mechanics to process information in a fundamentally different way than classical computers. Unlike classical computers that encode information into binary digits (bits), quantum computers use quantum bits, or \"qubits.\"\n",
      "\n",
      "Qubits follow the laws of quantum physics, which means they can exist in multiple states at once - a property known as superposition. When a qubit is in superposition, it can be both in state '0' and '1'\n"
     ]
    }
   ],
   "source": [
    "# GPT-3.5 model\n",
    "response_gpt_3_5 = client.chat.completions.create(\n",
    "    model=\"gpt-3.5-turbo\",\n",
    "    messages=[\n",
    "      {\"role\": \"system\", \"content\": \"You are a helpful assistant.\"},\n",
    "      {\"role\": \"user\", \"content\": \"What is quantum computing?\"}\n",
    "    ],\n",
    "    max_tokens=100\n",
    ")\n",
    "\n",
    "# GPT-4 model\n",
    "response_gpt_4 = client.chat.completions.create(\n",
    "    model=\"gpt-4\",\n",
    "    messages=[\n",
    "      {\"role\": \"system\", \"content\": \"You are a helpful assistant.\"},\n",
    "      {\"role\": \"user\", \"content\": \"What is quantum computing?\"}\n",
    "    ],\n",
    "    max_tokens=100\n",
    ")\n",
    "\n",
    "print(\"GPT-3.5:\", response_gpt_3_5.choices[0].message.content)\n",
    "print(\"\\n\")\n",
    "print(\"GPT-4:\", response_gpt_4.choices[0].message.content)"
   ]
  },
  {
   "cell_type": "markdown",
   "id": "8f558995-153e-4a16-ba61-fbc72215eddf",
   "metadata": {},
   "source": [
    "#### Example 2: Showcasing system, assistant, and user roles"
   ]
  },
  {
   "cell_type": "code",
   "execution_count": 7,
   "id": "48517860-76d6-4339-a945-127c6f3d6f95",
   "metadata": {},
   "outputs": [
    {
     "name": "stdout",
     "output_type": "stream",
     "text": [
      "Um, I think quantum computing is a type of computing that uses quantum-mechanical phenomena, like superposition and entanglement, to perform operations on data. It's supposed to be really powerful and could solve certain problems way faster than traditional computers. But, um, it's pretty complicated and I don't fully understand it yet.\n"
     ]
    }
   ],
   "source": [
    "response = client.chat.completions.create(\n",
    "    model=MODEL,\n",
    "    messages=[\n",
    "        {\"role\": \"system\", \"content\": \"Act as a middle school student.\"},\n",
    "        {\"role\": \"assistant\", \"content\": \"Hi, I just attended my first physics class!\"},\n",
    "        {\"role\": \"user\", \"content\": \"What is quantum computing?\"}\n",
    "    ],\n",
    "    max_tokens=100\n",
    ")\n",
    "\n",
    "print(response.choices[0].message.content)"
   ]
  },
  {
   "cell_type": "code",
   "execution_count": 8,
   "id": "d5386d66-092a-46f1-bea2-81de13fd4959",
   "metadata": {},
   "outputs": [
    {
     "name": "stdout",
     "output_type": "stream",
     "text": [
      "Quantum computing is a cutting-edge field that utilizes principles of quantum mechanics to perform operations on data. Traditional computers operate using bits, which can represent either a 0 or a 1. Quantum computers, on the other hand, use quantum bits, or qubits, which can exist in superposition – meaning they can represent both 0 and 1 simultaneously.\n",
      "\n",
      "This unique property of qubits allows quantum computers to process and store a vast amount of information in parallel, which can enable them to solve\n"
     ]
    }
   ],
   "source": [
    "response = client.chat.completions.create(\n",
    "    model=MODEL,\n",
    "    messages=[\n",
    "        {\"role\": \"system\", \"content\": \"Act as a physicist who has been researching particle physics for over thirty years.\"},\n",
    "        {\"role\": \"assistant\", \"content\": \"I have been researching particle physics for over thirty years.\"},\n",
    "        {\"role\": \"user\", \"content\": \"What is quantum computing?\"}\n",
    "    ],\n",
    "    temperature=1.0,\n",
    "    max_tokens=100\n",
    ")\n",
    "\n",
    "print(response.choices[0].message.content)"
   ]
  },
  {
   "cell_type": "markdown",
   "id": "68d95bbd-bf2d-4213-a08e-0d23bc28ecc3",
   "metadata": {},
   "source": [
    "#### Example 3: Showcasing different temperature settings"
   ]
  },
  {
   "cell_type": "code",
   "execution_count": 9,
   "id": "aa45b571-b6fc-4b10-ae36-2ea8b294bec0",
   "metadata": {},
   "outputs": [
    {
     "name": "stdout",
     "output_type": "stream",
     "text": [
      "\n",
      "Low Temperature Responses:\n",
      "Response 1: Quantum computing is a type of computing that uses quantum-mechanical phenomena, such as superposition and entanglement, to perform operations on data. Unlike classical computers that use bits to represent information\n",
      "\n",
      "Response 2: Quantum computing is a type of computing that uses quantum-mechanical phenomena, such as superposition and entanglement, to perform operations on data. Unlike classical computers that use bits to represent information\n",
      "\n",
      "\n",
      "High Temperature Responses:\n",
      "Response 1: Quantum computing is a cutting-edge computational technique that harnesses the principles of quantum theory to manipulate data and perform calculations. Traditional computers rely on bits, represented as 0s and 1s,\n",
      "\n",
      "Response 2: Quantum computing is a type of computing that uses the principles of quantum mechanics to perform operations on data. Unlike classical computing, which uses bits as units of information (representing either a 0 or\n",
      "\n",
      "\n",
      "Really High Temperature Responses:\n",
      "Response 1: Quantum computing is a new field of computer science and technology that studies the development of algorithms, quantum computers, and mathematical models on the principles of quantum mechanics in order to perform special undertitivitylambdaxy\n",
      "\n",
      "Response 2: Quantum computing is a type of computing that uses the principles of quantum mechanics and quantum physics to process data and perform computation. Unlike classical computing based on present infrastructure making incram texts fromperformance sequencingc\n",
      "\n"
     ]
    }
   ],
   "source": [
    "high_temperature_responses = []\n",
    "low_temperature_responses = []\n",
    "really_high_temperature_responses = []\n",
    "\n",
    "for _ in range(2):\n",
    "    # Low temperature\n",
    "    response_low_temp = client.chat.completions.create(\n",
    "        model=MODEL,\n",
    "        messages=[\n",
    "            {\"role\": \"system\", \"content\": \"You are a helpful assistant.\"},\n",
    "            {\"role\": \"user\", \"content\": \"What is quantum computing?\"}\n",
    "        ],\n",
    "        max_tokens=40,\n",
    "        temperature=0.1\n",
    "    )\n",
    "    low_temperature_responses.append(response_low_temp.choices[0].message.content)\n",
    "\n",
    "for _ in range(2):\n",
    "    # High temperature\n",
    "    response_high_temp = client.chat.completions.create(\n",
    "        model=MODEL,\n",
    "        messages=[\n",
    "            {\"role\": \"system\", \"content\": \"You are a helpful assistant.\"},\n",
    "            {\"role\": \"user\", \"content\": \"What is quantum computing?\"}\n",
    "        ],\n",
    "        max_tokens=40,\n",
    "        temperature=1.5\n",
    "    )\n",
    "    high_temperature_responses.append(response_high_temp.choices[0].message.content)\n",
    "\n",
    "for _ in range(2):\n",
    "    # Really high temperature\n",
    "    response_really_high_temp = client.chat.completions.create(\n",
    "        model=MODEL,\n",
    "        messages=[\n",
    "            {\"role\": \"system\", \"content\": \"You are a helpful assistant.\"},\n",
    "            {\"role\": \"user\", \"content\": \"What is quantum computing?\"}\n",
    "        ],\n",
    "        max_tokens=40,\n",
    "        temperature=2.0\n",
    "    )\n",
    "    really_high_temperature_responses.append(response_really_high_temp.choices[0].message.content)\n",
    "\n",
    "\n",
    "print(\"\\nLow Temperature Responses:\")\n",
    "for idx, response in enumerate(low_temperature_responses):\n",
    "    print(f\"Response {idx + 1}: {response}\\n\")\n",
    "\n",
    "print(\"\\nHigh Temperature Responses:\")\n",
    "for idx, response in enumerate(high_temperature_responses):\n",
    "    print(f\"Response {idx + 1}: {response}\\n\")\n",
    "\n",
    "print(\"\\nReally High Temperature Responses:\")\n",
    "for idx, response in enumerate(really_high_temperature_responses):\n",
    "    print(f\"Response {idx + 1}: {response}\\n\")"
   ]
  },
  {
   "cell_type": "markdown",
   "id": "498455de-60bd-4626-b7be-27acceeef9a9",
   "metadata": {},
   "source": [
    "#### Example 4: Showcasing different max_tokens settings"
   ]
  },
  {
   "cell_type": "code",
   "execution_count": 10,
   "id": "47562a94-ff02-488a-8f87-8ee5aa6392ab",
   "metadata": {},
   "outputs": [
    {
     "name": "stdout",
     "output_type": "stream",
     "text": [
      "Short Response: Blockchain is a decentralized, distributed ledger technology that records transactions across multiple computers in a way that is secure, transparent, and tamper-resistant. Each block\n",
      "\n",
      "\n",
      "Long Response: Blockchain is a decentralized, distributed ledger technology that enables secure and transparent record-keeping of transactions across a network of computers. It functions as a series of blocks, each containing a list of transactions, which are linked together in chronological order to form a chain. \n",
      "\n",
      "Key characteristics of blockchain include:\n",
      "\n",
      "1. Decentralization: Unlike traditional centralized systems where a single entity controls the data, blockchain operates on a network of interconnected nodes, ensuring that no single entity has control over the entire system.\n",
      "\n",
      "2. Transparency: The data in a blockchain is publicly accessible and verifiable by all participants in the network. This transparency helps to build trust among users and eliminates the need for third-party intermediaries.\n",
      "\n",
      "3. Immutability: Once a block is added to the blockchain, it cannot be altered or deleted without the consensus of the majority of the network participants. This feature ensures the integrity of the data and provides a tamper-proof record of transactions.\n",
      "\n",
      "4. Security: Blockchain uses cryptographic techniques to secure the data stored\n"
     ]
    }
   ],
   "source": [
    "# Short response\n",
    "response_short = client.chat.completions.create(\n",
    "    model=MODEL,\n",
    "    messages=[\n",
    "      {\"role\": \"system\", \"content\": \"You are concise.\"},\n",
    "      {\"role\": \"user\", \"content\": \"Explain blockchain.\"}\n",
    "    ],\n",
    "    max_tokens=30\n",
    ")\n",
    "\n",
    "# Longer response\n",
    "response_long = client.chat.completions.create(\n",
    "    model=MODEL,\n",
    "    messages=[\n",
    "      {\"role\": \"system\", \"content\": \"You are detailed.\"},\n",
    "      {\"role\": \"user\", \"content\": \"Explain blockchain.\"}\n",
    "    ],\n",
    "    max_tokens=200\n",
    ")\n",
    "\n",
    "print(\"Short Response:\", response_short.choices[0].message.content)\n",
    "print(\"\\n\")\n",
    "print(\"Long Response:\", response_long.choices[0].message.content)"
   ]
  },
  {
   "cell_type": "markdown",
   "id": "8f9bc3c5-5b90-4513-a302-7929dad1efe8",
   "metadata": {},
   "source": [
    "#### Example 5: Generating synthetic data based on titanic.csv"
   ]
  },
  {
   "cell_type": "code",
   "execution_count": 11,
   "id": "4fb62ce4-4641-4227-9fad-bb10aa2b463b",
   "metadata": {},
   "outputs": [
    {
     "name": "stdout",
     "output_type": "stream",
     "text": [
      "```csv\n",
      "PassengerId,Survived,Pclass,Name,Sex,Age,SibSp,Parch,Ticket,Fare,Cabin,Embarked\n",
      "1,0,3,\"Braund, Mr. Owen Harris\",male,22,1,0,A/5 21171,7.25,,S\n",
      "2,1,1,\"Cumings, Mrs. John Bradley (Florence Briggs Thayer)\",female,38,1,0,PC 17599,71.2833,C85,C\n",
      "3,1,3,\"Heikkinen, Miss. Laina\",female,26,0,0,STON/O2. 3101282,7.925,,S\n",
      "4,1,1,\"Futrelle, Mrs. Jacques Heath (Lily May Peel)\",female,35,1,0,113803,53.1,C123,S\n",
      "5,0,3,\"Allen, Mr. William Henry\",male,35,0,0,373450,8.05,,S\n",
      "6,0,3,\"Moran, Mr. James\",male,,0,0,330877,8.4583,,Q\n",
      "7,0,1,\"McCarthy, Mr. Timothy J\",male,54,0,0,17463,51.8625,E46,S\n",
      "8,0,3,\"Palsson, Master. Gosta Leonard\",male,2,3,1,349909,21.075,,S\n",
      "9,1,3,\"Johnson, Mrs. Oscar W (Elisabeth Vilhelmina Berg)\",female,27,0,2,347742,11.1333,,S\n",
      "10,1,2,\"Nasser, Mrs. Nicholas (Adele Achem)\",female,14,1,0,237736,30.0708,,C\n",
      "11,1,3,\"Sandstrom, Miss. Marguerite Rut\",female,4,1,1,PP 9549,16.7,G6,S\n",
      "12,1,1,\"Bonnell, Miss. Elizabeth\",female,58,0,0,113783,26.55,C103,S\n",
      "13,0,3,\"Saundercock, Mr. William Henry\",male,20,0,0,A/5. 2151,8.05,,S\n",
      "14,0,3,\"Andersson, Mr. Anders Johan\",male,39,1,5,347082,31.275,,S\n",
      "15,0,3,\"Vestrom, Miss. Hulda Amanda Adolfina\",female,14,0,0,350406,7.8542,,S\n",
      "16,1,2,\"Hewlett, Mrs. (Mary D Kingcome) \",female,55,0,0,248706,16,,S\n",
      "17,0,3,\"Rice, Master. Eugene\",male,2,4,1,382652,29.125,,Q\n",
      "18,1,2,\"Williams, Mr. Charles Eugene\",male,,0,0,244373,13,,S\n",
      "19,0,3,\"Vander Planke, Mrs. Julius (Emelia Maria Vandemoortele)\",female,31,1,0,345763,18,,S\n",
      "```  \n"
     ]
    }
   ],
   "source": [
    "response = client.chat.completions.create(\n",
    "    model=MODEL,\n",
    "    messages=[\n",
    "      {\"role\": \"system\", \"content\": \"You specialize in generating synthetic data formatted as a CSV file based on the data provided.\"},\n",
    "      {\"role\": \"user\", \"content\": \"\"\"titanic.csv: PassengerId,Survived,Pclass,Name,Sex,Age,SibSp,Parch,Ticket,Fare,Cabin,Embarked 1,0,3,\"Braund, Mr. Owen Harris\",male,22,1,0,A/5 21171,7.25,,S 2,1,1,\"Cumings, Mrs. John Bradley (Florence Briggs Thayer)\",female,38,1,0,PC 17599,71.2833,C85,C 3,1,3,\"Heikkinen, Miss. Laina\",female,26,0,0,STON/O2. 3101282,7.925,,S 4,1,1,\"Futrelle, Mrs. Jacques Heath (Lily May Peel)\",female,35,1,0,113803,53.1,C123,S 5,0,3,\"Allen, Mr. William Henry\",male,35,0,0,373450,8.05,,S 6,0,3,\"Moran, Mr. James\",male,,0,0,330877,8.4583,,Q 7,0,1,\"McCarthy, Mr. Timothy J\",male,54,0,0,17463,51.8625,E46,S 8,0,3,\"Palsson, Master. Gosta Leonard\",male,2,3,1,349909,21.075,,S 9,1,3,\"Johnson, Mrs. Oscar W (Elisabeth Vilhelmina Berg)\",female,27,0,2,347742,11.1333,,S 10,1,2,\"Nasser, Mrs. Nicholas (Adele Achem)\",female,14,1,0,237736,30.0708,,C 11,1,3,\"Sandstrom, Miss. Marguerite Rut\",female,4,1,1,PP 9549,16.7,G6,S 12,1,1,\"Bonnell, Miss. Elizabeth\",female,58,0,0,113783,26.55,C103,S 13,0,3,\"Saundercock, Mr. William Henry\",male,20,0,0,A/5. 2151,8.05,,S 14,0,3,\"Andersson, Mr. Anders Johan\",male,39,1,5,347082,31.275,,S 15,0,3,\"Vestrom, Miss. Hulda Amanda Adolfina\",female,14,0,0,350406,7.8542,,S 16,1,2,\"Hewlett, Mrs. (Mary D Kingcome) \",female,55,0,0,248706,16,,S 17,0,3,\"Rice, Master. Eugene\",male,2,4,1,382652,29.125,,Q 18,1,2,\"Williams, Mr. Charles Eugene\",male,,0,0,244373,13,,S 19,0,3,\"Vander Planke, Mrs. Julius (Emelia Maria Vandemoortele)\",female,31,1,0,345763,18,,S \"\"\"}\n",
    "    ],\n",
    "    max_tokens=1000\n",
    ")\n",
    "\n",
    "print(response.choices[0].message.content)"
   ]
  },
  {
   "cell_type": "markdown",
   "id": "3985494f-14ad-40be-ba31-8b7b5a4aceac",
   "metadata": {},
   "source": [
    "### Resources\n",
    "\n",
    "To delve deeper into this integration, the [OpenAI Python library](https://github.com/openai/openai-python/tree/main) available at GitHub provides a comprehensive toolkit for interfacing with the various AI models offered by OpenAI, including ChatGPT. This library is particularly beneficial for developers and data scientists looking to automate and streamline their workflows within Python environments. Additionally, the [OpenAI API documentation](https://platform.openai.com/docs/api-reference/chat), found at OpenAI Platform, offers detailed guidance on leveraging ChatGPT for creating advanced conversational AI applications. By utilizing these resources, users can better understand how to incorporate cutting-edge AI into their projects, enabling more efficient data processing, enriched user experiences, and more dynamic conversational interfaces."
   ]
  },
  {
   "cell_type": "code",
   "execution_count": null,
   "id": "9fc7dfe6-3d08-42cd-a144-9d3bd23ee018",
   "metadata": {},
   "outputs": [],
   "source": []
  }
 ],
 "metadata": {
  "kernelspec": {
   "display_name": "Python 3 (ipykernel)",
   "language": "python",
   "name": "python3"
  },
  "language_info": {
   "codemirror_mode": {
    "name": "ipython",
    "version": 3
   },
   "file_extension": ".py",
   "mimetype": "text/x-python",
   "name": "python",
   "nbconvert_exporter": "python",
   "pygments_lexer": "ipython3",
   "version": "3.11.5"
  }
 },
 "nbformat": 4,
 "nbformat_minor": 5
}
